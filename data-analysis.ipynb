{
  "cells": [
    {
      "cell_type": "markdown",
      "metadata": {},
      "source": [
        "An analysis of data from the 2015 Nepal earthquake.\\\n",
        "This is an example of a dataset that is too big to open in Excel, but Python handles it in seconds.\\\n",
        "The Dataset is available at: https://eq2015.npc.gov.np/#/about\\\n",
        "The CSVs are too large for GitHub's free file limit."
      ]
    },
    {
      "cell_type": "code",
      "execution_count": 1,
      "metadata": {
        "id": "m_c1ZNYgiwka"
      },
      "outputs": [],
      "source": [
        "import pandas as pd"
      ]
    },
    {
      "cell_type": "code",
      "execution_count": 2,
      "metadata": {
        "id": "cTvkcVzWiwke",
        "outputId": "207c055a-17e2-4acc-8909-ccde9a3e3ec1"
      },
      "outputs": [
        {
          "name": "stderr",
          "output_type": "stream",
          "text": [
            "C:\\Users\\Gabe\\AppData\\Local\\Temp\\ipykernel_21600\\2321263194.py:2: DtypeWarning: Columns (17,29,34,35,36,37,38,39,40,41,42,47,50) have mixed types. Specify dtype option on import or set low_memory=False.\n",
            "  building_damage_df = pd.read_csv(\"data/csv_building_damage_assessment.csv\")\n"
          ]
        }
      ],
      "source": [
        "#building dataframe\n",
        "building_damage_df = pd.read_csv(\"data/csv_building_damage_assessment.csv\")\n",
        "building_ownership_df = pd.read_csv(\"data/csv_building_ownership_and_use.csv\")\n",
        "building_structure_df = pd.read_csv(\"data/csv_building_structure.csv\")\n",
        "building_df = building_damage_df.merge(building_ownership_df, on=['building_id', 'district_id', 'vdcmun_id', 'ward_id']).merge(building_structure_df, on=['building_id', 'district_id', 'vdcmun_id', 'ward_id'])\n",
        "building_df.rename(columns={'damage_grade_x':'damage_grade','technical_solution_proposed_x':'technical_solution_proposed'}, inplace=True)\n",
        "building_df.drop(columns=['damage_grade_y','technical_solution_proposed_y'], inplace=True)\n",
        "\n",
        "#household dataframe\n",
        "household_demographics_df = pd.read_csv(\"data/csv_household_demographics.csv\")\n",
        "household_earthquake_impact_df = pd.read_csv(\"data/csv_household_earthquake_impact.csv\")\n",
        "household_resources_df = pd.read_csv(\"data/csv_household_resources.csv\")\n",
        "household_df = household_demographics_df.merge(household_earthquake_impact_df, on=['household_id', 'district_id', 'vdcmun_id', 'ward_id']).merge(household_resources_df, on=['household_id', 'district_id', 'vdcmun_id', 'ward_id'])\n",
        "\n",
        "#individual dataframe\n",
        "individual_demographics_df = pd.read_csv(\"data/csv_individual_demographics.csv\")\n",
        "individual_social_security_df = pd.read_csv(\"data/csv_individual_social_security.csv\")\n",
        "individual_df = individual_demographics_df.merge(individual_social_security_df, on=['individual_id', 'district_id', 'vdcmun_id', 'ward_id'])\n",
        "\n",
        "#mapping dataframes\n",
        "mapping_df = pd.read_csv(\"data/mapping.csv\")\n",
        "# ward_mapping_df = pd.read_csv(\"data/ward_vdcmun_district_name_mapping.csv\")"
      ]
    },
    {
      "cell_type": "code",
      "execution_count": 3,
      "metadata": {
        "id": "hJuigwgliwkf",
        "outputId": "20799ca7-57e1-4731-a78a-f3beffea52dc"
      },
      "outputs": [
        {
          "name": "stdout",
          "output_type": "stream",
          "text": [
            "the columns in building_df are: ['building_id', 'district_id', 'vdcmun_id', 'ward_id', 'damage_overall_collapse', 'damage_overall_leaning', 'damage_overall_adjacent_building_risk', 'damage_foundation_severe', 'damage_foundation_moderate', 'damage_foundation_insignificant', 'damage_roof_severe', 'damage_roof_moderate', 'damage_roof_insignificant', 'damage_corner_separation_severe', 'damage_corner_separation_moderate', 'damage_corner_separation_insignificant', 'damage_diagonal_cracking_severe', 'damage_diagonal_cracking_moderate', 'damage_diagonal_cracking_insignificant', 'damage_in_plane_failure_severe', 'damage_in_plane_failure_moderate', 'damage_in_plane_failure_insignificant', 'damage_out_of_plane_failure_severe', 'damage_out_of_plane_failure_moderate', 'damage_out_of_plane_failure_insignificant', 'damage_out_of_plane_failure_walls_ncfr_severe', 'damage_out_of_plane_failure_walls_ncfr_moderate', 'damage_out_of_plane_failure_walls_ncfr_insignificant', 'damage_gable_failure_severe', 'damage_gable_failure_moderate', 'damage_gable_failure_insignificant', 'damage_delamination_failure_severe', 'damage_delamination_failure_moderate', 'damage_delamination_failure_insignificant', 'damage_column_failure_severe', 'damage_column_failure_moderate', 'damage_column_failure_insignificant', 'damage_beam_failure_severe', 'damage_beam_failure_moderate', 'damage_beam_failure_insignificant', 'damage_infill_partition_failure_severe', 'damage_infill_partition_failure_moderate', 'damage_infill_partition_failure_insignificant', 'damage_staircase_severe', 'damage_staircase_moderate', 'damage_staircase_insignificant', 'damage_parapet_severe', 'damage_parapet_moderate', 'damage_parapet_insignificant', 'damage_cladding_glazing_severe', 'damage_cladding_glazing_moderate', 'damage_cladding_glazing_insignificant', 'area_assesed', 'damage_grade', 'technical_solution_proposed', 'has_repair_started', 'has_damage_foundation', 'has_damage_roof', 'has_damage_corner_separation', 'has_damage_diagonal_cracking', 'has_damage_in_plane_failure', 'has_damage_out_of_plane_failure', 'has_damage_out_of_plane_walls_ncfr_failure', 'has_damage_gable_failure', 'has_damage_delamination_failure', 'has_damage_column_failure', 'has_damage_beam_failure', 'has_damage_infill_partition_failure', 'has_damage_staircase', 'has_damage_parapet', 'has_damage_cladding_glazing', 'has_geotechnical_risk', 'has_geotechnical_risk_land_settlement', 'has_geotechnical_risk_fault_crack', 'has_geotechnical_risk_liquefaction', 'has_geotechnical_risk_landslide', 'has_geotechnical_risk_rock_fall', 'has_geotechnical_risk_flood', 'has_geotechnical_risk_other', 'legal_ownership_status', 'count_families', 'has_secondary_use', 'has_secondary_use_agriculture', 'has_secondary_use_hotel', 'has_secondary_use_rental', 'has_secondary_use_institution', 'has_secondary_use_school', 'has_secondary_use_industry', 'has_secondary_use_health_post', 'has_secondary_use_gov_office', 'has_secondary_use_use_police', 'has_secondary_use_other', 'count_floors_pre_eq', 'count_floors_post_eq', 'age_building', 'plinth_area_sq_ft', 'height_ft_pre_eq', 'height_ft_post_eq', 'land_surface_condition', 'foundation_type', 'roof_type', 'ground_floor_type', 'other_floor_type', 'position', 'plan_configuration', 'has_superstructure_adobe_mud', 'has_superstructure_mud_mortar_stone', 'has_superstructure_stone_flag', 'has_superstructure_cement_mortar_stone', 'has_superstructure_mud_mortar_brick', 'has_superstructure_cement_mortar_brick', 'has_superstructure_timber', 'has_superstructure_bamboo', 'has_superstructure_rc_non_engineered', 'has_superstructure_rc_engineered', 'has_superstructure_other', 'condition_post_eq']\n",
            "\n",
            "the columns in household_df are: ['household_id', 'district_id', 'vdcmun_id', 'ward_id', 'gender_household_head', 'age_household_head', 'caste_household', 'education_level_household_head', 'income_level_household', 'size_household', 'is_bank_account_present_in_household', 'shelter_condition_household_post_eq', 'residence_household_pre_eq', 'residence_household_post_eq', 'household_eq_id_type', 'has_death_occurred_last_12_months', 'count_death_last_12_months', 'has_injury_loss_occurred_last_12_months', 'count_injury_loss_last_12_months', 'has_education_drop_occurred_last_12_months', 'count_education_drop_last_12_months', 'has_pregnancy_treatment_drop_occurred_last_12_months', 'count_pregnancy_treatment_drop_last_12_months', 'has_vaccination_drop_occurred_last_12_months', 'count_vaccination_drop_last_12_months', 'has_occupation_change_occurred_last_12_months', 'count_occupation_change_last_12_months', 'residence_district_household_head_pre_eq', 'residence_district_household_head_post_eq', 'is_recipient_rahat_15k', 'is_recipient_rahat_10k', 'is_recipient_rahat_200k', 'is_recipient_rahat_social_security_3k', 'is_recipient_rahat_none', 'is_ineligible_rahat', 'source_water_pre_eq', 'source_water_post_eq', 'source_cooking_fuel_pre_eq', 'source_cooking_fuel_post_eq', 'source_light_pre_eq', 'source_light_post_eq', 'type_toilet_pre_eq', 'type_toilet_post_eq', 'has_asset_land_pre_eq', 'has_asset_tv_pre_eq', 'has_asset_cable_pre_eq', 'has_asset_computer_pre_eq', 'has_asset_internet_pre_eq', 'has_asset_telephone_pre_eq', 'has_asset_mobile_phone_pre_eq', 'has_asset_fridge_pre_eq', 'has_asset_motorcycle_pre_eq', 'has_asset_four_wheeler_family_use_pre_eq', 'has_asset_four_wheeler_commercial_use_pre_eq', 'has_asset_none_pre_eq', 'has_asset_land_post_eq', 'has_asset_tv_post_eq', 'has_asset_cable_post_eq', 'has_asset_computer_post_eq', 'has_asset_internet_post_eq', 'has_asset_telephone_post_eq', 'has_asset_mobile_phone_post_eq', 'has_asset_fridge_post_eq', 'has_asset_motorcycle_post_eq', 'has_asset_four_wheeler_family_use_post_eq', 'has_asset_four_wheeler_commercial_post_eq', 'has_asset_none_post_eq']\n",
            "\n",
            "the columns in individual_df are: ['individual_id', 'district_id', 'vdcmun_id', 'ward_id', 'gender_individual', 'age_individual', 'presence_in_household', 'disability_individual', 'has_registered_birth', 'education_level_individual', 'marital_status_individual', 'has_social_security_elder_citizen', 'has_social_security_child_security', 'has_social_security_extinct_caste', 'has_social_security_single_woman', 'has_social_security_handicap', 'has_social_security_pension', 'has_social_security_other', 'has_social_security_not_applicable', 'has_social_security_none']\n",
            "\n",
            "the columns in mapping_df are: ['individual_id', 'household_id', 'building_id']\n"
          ]
        }
      ],
      "source": [
        "print(f'the columns in building_df are: {building_df.columns.tolist()}')\n",
        "print()\n",
        "print(f'the columns in household_df are: {household_df.columns.tolist()}')\n",
        "print()\n",
        "print(f'the columns in individual_df are: {individual_df.columns.tolist()}')\n",
        "print()\n",
        "print(f'the columns in mapping_df are: {mapping_df.columns.tolist()}')"
      ]
    },
    {
      "cell_type": "code",
      "execution_count": 4,
      "metadata": {},
      "outputs": [
        {
          "name": "stdout",
          "output_type": "stream",
          "text": [
            "building_df.shape = (762106, 117)\n",
            "houshold_df.shape = (747365, 67)\n",
            "individual_df.shape = (3677133, 20)\n"
          ]
        }
      ],
      "source": [
        "print(f'building_df.shape = {building_df.shape}')\n",
        "print(f'houshold_df.shape = {household_df.shape}')\n",
        "print(f'individual_df.shape = {individual_df.shape}')"
      ]
    },
    {
      "cell_type": "code",
      "execution_count": 5,
      "metadata": {
        "id": "YKcG4oyoiwkg",
        "outputId": "573251dd-406d-4f03-fb47-bda04d33a024"
      },
      "outputs": [
        {
          "name": "stdout",
          "output_type": "stream",
          "text": [
            "Number of rows with social security handicap: 7233\n"
          ]
        }
      ],
      "source": [
        "num_social_security_handicap = (individual_df['has_social_security_handicap'] == 1).sum()\n",
        "print(f\"Number of rows with social security handicap: {num_social_security_handicap}\")"
      ]
    },
    {
      "cell_type": "code",
      "execution_count": 6,
      "metadata": {
        "id": "8W_PIsVFiwkg"
      },
      "outputs": [],
      "source": [
        "#finding handicapped people\n",
        "handicap_individual_ids = individual_df.loc[individual_df['has_social_security_handicap'] == 1, 'individual_id'].copy()\n",
        "handicap_df = pd.DataFrame({'individual_id': handicap_individual_ids})\n",
        "handicap_df = handicap_df.reset_index(drop=True)"
      ]
    },
    {
      "cell_type": "code",
      "execution_count": 7,
      "metadata": {
        "id": "uXR36p-7iwkh",
        "outputId": "3c6138cd-c9ae-40b6-fd52-3e767d09b816"
      },
      "outputs": [
        {
          "data": {
            "text/html": [
              "<div>\n",
              "<style scoped>\n",
              "    .dataframe tbody tr th:only-of-type {\n",
              "        vertical-align: middle;\n",
              "    }\n",
              "\n",
              "    .dataframe tbody tr th {\n",
              "        vertical-align: top;\n",
              "    }\n",
              "\n",
              "    .dataframe thead th {\n",
              "        text-align: right;\n",
              "    }\n",
              "</style>\n",
              "<table border=\"1\" class=\"dataframe\">\n",
              "  <thead>\n",
              "    <tr style=\"text-align: right;\">\n",
              "      <th></th>\n",
              "      <th>individual_id</th>\n",
              "    </tr>\n",
              "  </thead>\n",
              "  <tbody>\n",
              "    <tr>\n",
              "      <th>0</th>\n",
              "      <td>12010200015101003</td>\n",
              "    </tr>\n",
              "    <tr>\n",
              "      <th>1</th>\n",
              "      <td>12010300112101004</td>\n",
              "    </tr>\n",
              "    <tr>\n",
              "      <th>2</th>\n",
              "      <td>12010600057101001</td>\n",
              "    </tr>\n",
              "    <tr>\n",
              "      <th>3</th>\n",
              "      <td>12020300002101006</td>\n",
              "    </tr>\n",
              "    <tr>\n",
              "      <th>4</th>\n",
              "      <td>12020300025101002</td>\n",
              "    </tr>\n",
              "    <tr>\n",
              "      <th>...</th>\n",
              "      <td>...</td>\n",
              "    </tr>\n",
              "    <tr>\n",
              "      <th>7228</th>\n",
              "      <td>36660600004101006</td>\n",
              "    </tr>\n",
              "    <tr>\n",
              "      <th>7229</th>\n",
              "      <td>36660600028101006</td>\n",
              "    </tr>\n",
              "    <tr>\n",
              "      <th>7230</th>\n",
              "      <td>36670100050101006</td>\n",
              "    </tr>\n",
              "    <tr>\n",
              "      <th>7231</th>\n",
              "      <td>36670200009101003</td>\n",
              "    </tr>\n",
              "    <tr>\n",
              "      <th>7232</th>\n",
              "      <td>36670200037101006</td>\n",
              "    </tr>\n",
              "  </tbody>\n",
              "</table>\n",
              "<p>7233 rows × 1 columns</p>\n",
              "</div>"
            ],
            "text/plain": [
              "          individual_id\n",
              "0     12010200015101003\n",
              "1     12010300112101004\n",
              "2     12010600057101001\n",
              "3     12020300002101006\n",
              "4     12020300025101002\n",
              "...                 ...\n",
              "7228  36660600004101006\n",
              "7229  36660600028101006\n",
              "7230  36670100050101006\n",
              "7231  36670200009101003\n",
              "7232  36670200037101006\n",
              "\n",
              "[7233 rows x 1 columns]"
            ]
          },
          "execution_count": 7,
          "metadata": {},
          "output_type": "execute_result"
        }
      ],
      "source": [
        "handicap_df"
      ]
    },
    {
      "cell_type": "code",
      "execution_count": 8,
      "metadata": {
        "id": "FpfqOBdoiwkh"
      },
      "outputs": [],
      "source": [
        "# Merge mapping_df with handicap_df\n",
        "handicap_df = handicap_df.merge(mapping_df, on='individual_id')"
      ]
    },
    {
      "cell_type": "code",
      "execution_count": 9,
      "metadata": {
        "id": "LoG6qY5Niwkh",
        "outputId": "cb025ed6-a8d7-44c9-9f94-b952a7b2f55f"
      },
      "outputs": [
        {
          "name": "stdout",
          "output_type": "stream",
          "text": [
            "       individual_id    household_id   building_id\n",
            "0  12010200015101003  12010200015101  120102000151\n",
            "1  12010300112101004  12010300112101  120103001121\n",
            "2  12010600057101001  12010600057101  120106000571\n",
            "3  12020300002101006  12020300002101  120203000021\n",
            "4  12020300025101002  12020300025101  120203000251\n",
            "(7233, 3)\n"
          ]
        }
      ],
      "source": [
        "print(handicap_df.head())\n",
        "print(handicap_df.shape)"
      ]
    },
    {
      "cell_type": "code",
      "execution_count": 10,
      "metadata": {
        "id": "XN9byuAliwki",
        "outputId": "b1f6fa4a-17a5-4d6f-a73b-fda200ee4e93"
      },
      "outputs": [
        {
          "data": {
            "text/plain": [
              "20400600073101    5\n",
              "28570100123101    4\n",
              "36240800044101    4\n",
              "21520200003101    4\n",
              "12030500036101    4\n",
              "24640100344101    4\n",
              "12430900010101    3\n",
              "30030700142101    3\n",
              "30040800363101    3\n",
              "36400900046101    3\n",
              "Name: household_id, dtype: int64"
            ]
          },
          "execution_count": 10,
          "metadata": {},
          "output_type": "execute_result"
        }
      ],
      "source": [
        "# list top 10 homes by number of handicapped people\n",
        "most_handicapped_homes = handicap_df['household_id'].value_counts().head(10).copy()\n",
        "most_handicapped_homes"
      ]
    },
    {
      "cell_type": "code",
      "execution_count": 11,
      "metadata": {
        "id": "EXwz8CDViwki",
        "outputId": "ed7c2da1-818a-4f1b-c754-91b06645eb62"
      },
      "outputs": [
        {
          "name": "stdout",
          "output_type": "stream",
          "text": [
            "There are 314 homes with more than one handicapped person.\n"
          ]
        }
      ],
      "source": [
        "# get homes with > 1 handicapped person\n",
        "multi_handicapped_homes_df = handicap_df['household_id'].value_counts().copy()\n",
        "multi_handicapped_homes_df = multi_handicapped_homes_df[multi_handicapped_homes_df > 1]\n",
        "print(f'There are {len(multi_handicapped_homes_df)} homes with more than one handicapped person.')"
      ]
    },
    {
      "cell_type": "code",
      "execution_count": 12,
      "metadata": {
        "id": "_uqY76Cgiwkj",
        "outputId": "a87238cf-5ed7-4d31-c261-c4649366eeeb"
      },
      "outputs": [
        {
          "data": {
            "text/plain": [
              "20400600073101    5\n",
              "28570100123101    4\n",
              "36240800044101    4\n",
              "21520200003101    4\n",
              "12030500036101    4\n",
              "                 ..\n",
              "22440700119101    2\n",
              "24520200161101    2\n",
              "31290400504101    2\n",
              "12210800007101    2\n",
              "36650400100101    2\n",
              "Name: household_id, Length: 314, dtype: int64"
            ]
          },
          "execution_count": 12,
          "metadata": {},
          "output_type": "execute_result"
        }
      ],
      "source": [
        "multi_handicapped_homes_df"
      ]
    },
    {
      "cell_type": "code",
      "execution_count": 13,
      "metadata": {
        "id": "M4_LKlDhiwkj",
        "outputId": "d8968a8f-4b00-491f-ee2d-8b6cb41f926f"
      },
      "outputs": [
        {
          "name": "stdout",
          "output_type": "stream",
          "text": [
            "There are 6877 homes with handicapped people.\n"
          ]
        }
      ],
      "source": [
        "unique_handicap_homes = handicap_df.household_id.unique().copy()\n",
        "unique_handicap_homes_df = pd.DataFrame(unique_handicap_homes, columns=['household_id'])\n",
        "\n",
        "print(f'There are {len(unique_handicap_homes_df)} homes with handicapped people.')"
      ]
    },
    {
      "cell_type": "code",
      "execution_count": 14,
      "metadata": {
        "id": "WlMH_Z0Fiwkj",
        "outputId": "982f258f-effd-4d9b-e082-4855b03b9392"
      },
      "outputs": [
        {
          "data": {
            "text/html": [
              "<div>\n",
              "<style scoped>\n",
              "    .dataframe tbody tr th:only-of-type {\n",
              "        vertical-align: middle;\n",
              "    }\n",
              "\n",
              "    .dataframe tbody tr th {\n",
              "        vertical-align: top;\n",
              "    }\n",
              "\n",
              "    .dataframe thead th {\n",
              "        text-align: right;\n",
              "    }\n",
              "</style>\n",
              "<table border=\"1\" class=\"dataframe\">\n",
              "  <thead>\n",
              "    <tr style=\"text-align: right;\">\n",
              "      <th></th>\n",
              "      <th>household_id</th>\n",
              "    </tr>\n",
              "  </thead>\n",
              "  <tbody>\n",
              "    <tr>\n",
              "      <th>0</th>\n",
              "      <td>12010200015101</td>\n",
              "    </tr>\n",
              "    <tr>\n",
              "      <th>1</th>\n",
              "      <td>12010300112101</td>\n",
              "    </tr>\n",
              "    <tr>\n",
              "      <th>2</th>\n",
              "      <td>12010600057101</td>\n",
              "    </tr>\n",
              "    <tr>\n",
              "      <th>3</th>\n",
              "      <td>12020300002101</td>\n",
              "    </tr>\n",
              "    <tr>\n",
              "      <th>4</th>\n",
              "      <td>12020300025101</td>\n",
              "    </tr>\n",
              "    <tr>\n",
              "      <th>...</th>\n",
              "      <td>...</td>\n",
              "    </tr>\n",
              "    <tr>\n",
              "      <th>6872</th>\n",
              "      <td>36660600004101</td>\n",
              "    </tr>\n",
              "    <tr>\n",
              "      <th>6873</th>\n",
              "      <td>36660600028101</td>\n",
              "    </tr>\n",
              "    <tr>\n",
              "      <th>6874</th>\n",
              "      <td>36670100050101</td>\n",
              "    </tr>\n",
              "    <tr>\n",
              "      <th>6875</th>\n",
              "      <td>36670200009101</td>\n",
              "    </tr>\n",
              "    <tr>\n",
              "      <th>6876</th>\n",
              "      <td>36670200037101</td>\n",
              "    </tr>\n",
              "  </tbody>\n",
              "</table>\n",
              "<p>6877 rows × 1 columns</p>\n",
              "</div>"
            ],
            "text/plain": [
              "        household_id\n",
              "0     12010200015101\n",
              "1     12010300112101\n",
              "2     12010600057101\n",
              "3     12020300002101\n",
              "4     12020300025101\n",
              "...              ...\n",
              "6872  36660600004101\n",
              "6873  36660600028101\n",
              "6874  36670100050101\n",
              "6875  36670200009101\n",
              "6876  36670200037101\n",
              "\n",
              "[6877 rows x 1 columns]"
            ]
          },
          "execution_count": 14,
          "metadata": {},
          "output_type": "execute_result"
        }
      ],
      "source": [
        "unique_handicap_homes_df"
      ]
    },
    {
      "cell_type": "code",
      "execution_count": 15,
      "metadata": {
        "id": "ZNUEFHtKiwkk",
        "outputId": "c7f2d25a-0cf5-46f7-ecf6-a53198d854ce"
      },
      "outputs": [
        {
          "data": {
            "text/html": [
              "<div>\n",
              "<style scoped>\n",
              "    .dataframe tbody tr th:only-of-type {\n",
              "        vertical-align: middle;\n",
              "    }\n",
              "\n",
              "    .dataframe tbody tr th {\n",
              "        vertical-align: top;\n",
              "    }\n",
              "\n",
              "    .dataframe thead th {\n",
              "        text-align: right;\n",
              "    }\n",
              "</style>\n",
              "<table border=\"1\" class=\"dataframe\">\n",
              "  <thead>\n",
              "    <tr style=\"text-align: right;\">\n",
              "      <th></th>\n",
              "      <th>building_id</th>\n",
              "      <th>damage_grade</th>\n",
              "    </tr>\n",
              "  </thead>\n",
              "  <tbody>\n",
              "    <tr>\n",
              "      <th>0</th>\n",
              "      <td>120101000011</td>\n",
              "      <td>3</td>\n",
              "    </tr>\n",
              "    <tr>\n",
              "      <th>1</th>\n",
              "      <td>120101000021</td>\n",
              "      <td>5</td>\n",
              "    </tr>\n",
              "    <tr>\n",
              "      <th>2</th>\n",
              "      <td>120101000071</td>\n",
              "      <td>5</td>\n",
              "    </tr>\n",
              "    <tr>\n",
              "      <th>3</th>\n",
              "      <td>120101000091</td>\n",
              "      <td>3</td>\n",
              "    </tr>\n",
              "    <tr>\n",
              "      <th>4</th>\n",
              "      <td>120101000101</td>\n",
              "      <td>3</td>\n",
              "    </tr>\n",
              "    <tr>\n",
              "      <th>...</th>\n",
              "      <td>...</td>\n",
              "      <td>...</td>\n",
              "    </tr>\n",
              "    <tr>\n",
              "      <th>596017</th>\n",
              "      <td>366709001241</td>\n",
              "      <td>5</td>\n",
              "    </tr>\n",
              "    <tr>\n",
              "      <th>596018</th>\n",
              "      <td>366709001251</td>\n",
              "      <td>5</td>\n",
              "    </tr>\n",
              "    <tr>\n",
              "      <th>596019</th>\n",
              "      <td>366709001261</td>\n",
              "      <td>5</td>\n",
              "    </tr>\n",
              "    <tr>\n",
              "      <th>596020</th>\n",
              "      <td>366709001271</td>\n",
              "      <td>5</td>\n",
              "    </tr>\n",
              "    <tr>\n",
              "      <th>596021</th>\n",
              "      <td>366709001281</td>\n",
              "      <td>5</td>\n",
              "    </tr>\n",
              "  </tbody>\n",
              "</table>\n",
              "<p>596022 rows × 2 columns</p>\n",
              "</div>"
            ],
            "text/plain": [
              "         building_id  damage_grade\n",
              "0       120101000011             3\n",
              "1       120101000021             5\n",
              "2       120101000071             5\n",
              "3       120101000091             3\n",
              "4       120101000101             3\n",
              "...              ...           ...\n",
              "596017  366709001241             5\n",
              "596018  366709001251             5\n",
              "596019  366709001261             5\n",
              "596020  366709001271             5\n",
              "596021  366709001281             5\n",
              "\n",
              "[596022 rows x 2 columns]"
            ]
          },
          "execution_count": 15,
          "metadata": {},
          "output_type": "execute_result"
        }
      ],
      "source": [
        "# get buildings with a damage grade of 3, 4, or 5 and convert damage_grade to integer\n",
        "damaged_buildings_df = building_df.loc[building_df['damage_grade'].isin(['Grade 3', 'Grade 4', 'Grade 5']), ['building_id', 'damage_grade']].copy()\n",
        "damaged_buildings_df['damage_grade'] = damaged_buildings_df['damage_grade'].str.replace('Grade', '').astype(int)\n",
        "\n",
        "# reset the index of the new dataframe\n",
        "damaged_buildings_df.reset_index(drop=True, inplace=True)\n",
        "damaged_buildings_df"
      ]
    },
    {
      "cell_type": "code",
      "execution_count": 16,
      "metadata": {
        "id": "5h6vEpYoiwkk",
        "outputId": "5771c5a6-6f81-4db4-c053-b300101cc82c"
      },
      "outputs": [
        {
          "data": {
            "text/html": [
              "<div>\n",
              "<style scoped>\n",
              "    .dataframe tbody tr th:only-of-type {\n",
              "        vertical-align: middle;\n",
              "    }\n",
              "\n",
              "    .dataframe tbody tr th {\n",
              "        vertical-align: top;\n",
              "    }\n",
              "\n",
              "    .dataframe thead th {\n",
              "        text-align: right;\n",
              "    }\n",
              "</style>\n",
              "<table border=\"1\" class=\"dataframe\">\n",
              "  <thead>\n",
              "    <tr style=\"text-align: right;\">\n",
              "      <th></th>\n",
              "      <th>building_id</th>\n",
              "      <th>damage_grade</th>\n",
              "      <th>individual_id</th>\n",
              "      <th>household_id</th>\n",
              "    </tr>\n",
              "  </thead>\n",
              "  <tbody>\n",
              "    <tr>\n",
              "      <th>0</th>\n",
              "      <td>120101000011</td>\n",
              "      <td>3</td>\n",
              "      <td>12010100001101001</td>\n",
              "      <td>12010100001101</td>\n",
              "    </tr>\n",
              "    <tr>\n",
              "      <th>1</th>\n",
              "      <td>120101000011</td>\n",
              "      <td>3</td>\n",
              "      <td>12010100001101002</td>\n",
              "      <td>12010100001101</td>\n",
              "    </tr>\n",
              "    <tr>\n",
              "      <th>2</th>\n",
              "      <td>120101000011</td>\n",
              "      <td>3</td>\n",
              "      <td>12010100001101003</td>\n",
              "      <td>12010100001101</td>\n",
              "    </tr>\n",
              "    <tr>\n",
              "      <th>3</th>\n",
              "      <td>120101000021</td>\n",
              "      <td>5</td>\n",
              "      <td>12010100002101001</td>\n",
              "      <td>12010100002101</td>\n",
              "    </tr>\n",
              "    <tr>\n",
              "      <th>4</th>\n",
              "      <td>120101000021</td>\n",
              "      <td>5</td>\n",
              "      <td>12010100002101002</td>\n",
              "      <td>12010100002101</td>\n",
              "    </tr>\n",
              "    <tr>\n",
              "      <th>...</th>\n",
              "      <td>...</td>\n",
              "      <td>...</td>\n",
              "      <td>...</td>\n",
              "      <td>...</td>\n",
              "    </tr>\n",
              "    <tr>\n",
              "      <th>2883946</th>\n",
              "      <td>366709001271</td>\n",
              "      <td>5</td>\n",
              "      <td>36670900127101001</td>\n",
              "      <td>36670900127101</td>\n",
              "    </tr>\n",
              "    <tr>\n",
              "      <th>2883947</th>\n",
              "      <td>366709001281</td>\n",
              "      <td>5</td>\n",
              "      <td>36670900128101001</td>\n",
              "      <td>36670900128101</td>\n",
              "    </tr>\n",
              "    <tr>\n",
              "      <th>2883948</th>\n",
              "      <td>366709001281</td>\n",
              "      <td>5</td>\n",
              "      <td>36670900128101002</td>\n",
              "      <td>36670900128101</td>\n",
              "    </tr>\n",
              "    <tr>\n",
              "      <th>2883949</th>\n",
              "      <td>366709001281</td>\n",
              "      <td>5</td>\n",
              "      <td>36670900128101003</td>\n",
              "      <td>36670900128101</td>\n",
              "    </tr>\n",
              "    <tr>\n",
              "      <th>2883950</th>\n",
              "      <td>366709001281</td>\n",
              "      <td>5</td>\n",
              "      <td>36670900128101004</td>\n",
              "      <td>36670900128101</td>\n",
              "    </tr>\n",
              "  </tbody>\n",
              "</table>\n",
              "<p>2883951 rows × 4 columns</p>\n",
              "</div>"
            ],
            "text/plain": [
              "          building_id  damage_grade      individual_id    household_id\n",
              "0        120101000011             3  12010100001101001  12010100001101\n",
              "1        120101000011             3  12010100001101002  12010100001101\n",
              "2        120101000011             3  12010100001101003  12010100001101\n",
              "3        120101000021             5  12010100002101001  12010100002101\n",
              "4        120101000021             5  12010100002101002  12010100002101\n",
              "...               ...           ...                ...             ...\n",
              "2883946  366709001271             5  36670900127101001  36670900127101\n",
              "2883947  366709001281             5  36670900128101001  36670900128101\n",
              "2883948  366709001281             5  36670900128101002  36670900128101\n",
              "2883949  366709001281             5  36670900128101003  36670900128101\n",
              "2883950  366709001281             5  36670900128101004  36670900128101\n",
              "\n",
              "[2883951 rows x 4 columns]"
            ]
          },
          "execution_count": 16,
          "metadata": {},
          "output_type": "execute_result"
        }
      ],
      "source": [
        "# Get all individuals and households for the damaged buildings\n",
        "damaged_individuals_df = damaged_buildings_df.merge(mapping_df, on='building_id')\n",
        "damaged_individuals_df"
      ]
    },
    {
      "cell_type": "code",
      "execution_count": 17,
      "metadata": {
        "id": "1xpCLGimiwkk",
        "outputId": "7922f472-35db-4c93-eebc-b8e501a3b88a"
      },
      "outputs": [
        {
          "name": "stdout",
          "output_type": "stream",
          "text": [
            "There are 2883951 individuals in 545440 damaged buildings and 589896 damaged households.\n"
          ]
        }
      ],
      "source": [
        "print('There are', damaged_individuals_df['individual_id'].nunique(), \"individuals in\", damaged_individuals_df['building_id'].nunique(), \"damaged buildings and\", damaged_individuals_df['household_id'].nunique(), \"damaged households.\")"
      ]
    }
  ],
  "metadata": {
    "colab": {
      "provenance": []
    },
    "kernelspec": {
      "display_name": "Python 3",
      "language": "python",
      "name": "python3"
    },
    "language_info": {
      "codemirror_mode": {
        "name": "ipython",
        "version": 3
      },
      "file_extension": ".py",
      "mimetype": "text/x-python",
      "name": "python",
      "nbconvert_exporter": "python",
      "pygments_lexer": "ipython3",
      "version": "3.10.7"
    },
    "orig_nbformat": 4
  },
  "nbformat": 4,
  "nbformat_minor": 0
}
